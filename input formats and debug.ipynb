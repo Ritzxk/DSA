{
 "cells": [
  {
   "cell_type": "markdown",
   "id": "fe67b5bc",
   "metadata": {},
   "source": [
    "# quick sort"
   ]
  },
  {
   "cell_type": "code",
   "execution_count": 1,
   "id": "9f0bfbc9",
   "metadata": {},
   "outputs": [
    {
     "name": "stdout",
     "output_type": "stream",
     "text": [
      "[1, 2, 4, 4, 5, 7, 8]\n"
     ]
    }
   ],
   "source": [
    "def qs(arr, low, high):\n",
    "    if low < high:\n",
    "        partition = fun_part(arr, low, high)    # placing pivot at right position\n",
    "        qs(arr, low, partition - 1)             # sorting elements left to pivot\n",
    "        qs( arr, partition + 1, high)           # sorting elements right to pivot\n",
    "        \n",
    "def fun_part(arr, low, high):\n",
    "    pivot = arr[low]\n",
    "    i = low\n",
    "    j = high\n",
    "    \n",
    "    while i < j:\n",
    "        while arr[i] <= pivot and i <= high - 1:\n",
    "            i +=1\n",
    "        while arr[j] > pivot and j >= low + 1:\n",
    "            j -= 1\n",
    "        if i < j:\n",
    "            arr[i], arr[j] = arr[j], arr[i]\n",
    "            \n",
    "    arr[low], arr[j] = arr[j], arr[low]\n",
    "    return j\n",
    "def QuickS(arr):\n",
    "    qs(arr, 0, len(arr) - 1)\n",
    "    return arr\n",
    "print(QuickS([4,2,7,5,1,8,4]))"
   ]
  },
  {
   "cell_type": "code",
   "execution_count": 2,
   "id": "fbc1f1bd",
   "metadata": {},
   "outputs": [
    {
     "name": "stdout",
     "output_type": "stream",
     "text": [
      "2\n",
      "[2]\n"
     ]
    }
   ],
   "source": [
    "inp = input()\n",
    "l = list( map(int, inp.split(\",\")))\n",
    "print(l)"
   ]
  },
  {
   "cell_type": "code",
   "execution_count": 3,
   "id": "a4964801",
   "metadata": {},
   "outputs": [
    {
     "data": {
      "text/plain": [
       "int"
      ]
     },
     "execution_count": 3,
     "metadata": {},
     "output_type": "execute_result"
    }
   ],
   "source": [
    "s = '1,2,3,4,5,6'\n",
    "l = [int(x) for x in s.split(',')]\n",
    "type(l[0])"
   ]
  },
  {
   "cell_type": "code",
   "execution_count": 4,
   "id": "952660dc",
   "metadata": {},
   "outputs": [
    {
     "data": {
      "text/plain": [
       "[2, 3, 4]"
      ]
     },
     "execution_count": 4,
     "metadata": {},
     "output_type": "execute_result"
    }
   ],
   "source": [
    "s = '234'\n",
    "l = [int(x) for x in s]\n",
    "l"
   ]
  },
  {
   "cell_type": "code",
   "execution_count": 6,
   "id": "ef842a9c",
   "metadata": {},
   "outputs": [
    {
     "name": "stdout",
     "output_type": "stream",
     "text": [
      "2\n",
      "1\n"
     ]
    },
    {
     "name": "stderr",
     "output_type": "stream",
     "text": [
      "ic| n: '1'\n"
     ]
    },
    {
     "name": "stdout",
     "output_type": "stream",
     "text": [
      "2\n"
     ]
    },
    {
     "name": "stderr",
     "output_type": "stream",
     "text": [
      "ic| n: '2'\n"
     ]
    }
   ],
   "source": [
    "from icecream import ic\n",
    "test = int(input())\n",
    "for _ in range(test):\n",
    "    n = input()\n",
    "    ic(n)"
   ]
  },
  {
   "cell_type": "code",
   "execution_count": 7,
   "id": "a5acb12f",
   "metadata": {},
   "outputs": [
    {
     "name": "stdout",
     "output_type": "stream",
     "text": [
      "Sum: 15\n"
     ]
    }
   ],
   "source": [
    "def sum_numbers(*args):\n",
    "    total = 0\n",
    "    for num in args:\n",
    "        total += num\n",
    "    return total\n",
    "\n",
    "def main():\n",
    "    numbers = [1, 2, 3, 4, 5]\n",
    "    result = sum_numbers(*numbers)\n",
    "    print(\"Sum:\", result)\n",
    "\n",
    "if __name__ == \"__main__\":\n",
    "    main()\n"
   ]
  },
  {
   "cell_type": "code",
   "execution_count": 8,
   "id": "99ec30d4",
   "metadata": {},
   "outputs": [
    {
     "data": {
      "text/plain": [
       "[1, 4, 9, 16, 25]"
      ]
     },
     "execution_count": 8,
     "metadata": {},
     "output_type": "execute_result"
    }
   ],
   "source": [
    "l = [1,2,3,4,5]\n",
    "\n",
    "square = list(map(lambda x: x**2,l))\n",
    "square"
   ]
  },
  {
   "cell_type": "code",
   "execution_count": 9,
   "id": "e8fdcf15",
   "metadata": {},
   "outputs": [
    {
     "data": {
      "text/plain": [
       "(1, 4, 9, 16, 25)"
      ]
     },
     "execution_count": 9,
     "metadata": {},
     "output_type": "execute_result"
    }
   ],
   "source": [
    "l = [1,2,3,4,5]\n",
    "l2 = tuple(map(lambda x: x**2, l))\n",
    "l2"
   ]
  },
  {
   "cell_type": "code",
   "execution_count": null,
   "id": "130f47a5",
   "metadata": {},
   "outputs": [],
   "source": []
  }
 ],
 "metadata": {
  "kernelspec": {
   "display_name": "Python 3 (ipykernel)",
   "language": "python",
   "name": "python3"
  },
  "language_info": {
   "codemirror_mode": {
    "name": "ipython",
    "version": 3
   },
   "file_extension": ".py",
   "mimetype": "text/x-python",
   "name": "python",
   "nbconvert_exporter": "python",
   "pygments_lexer": "ipython3",
   "version": "3.10.9"
  }
 },
 "nbformat": 4,
 "nbformat_minor": 5
}
