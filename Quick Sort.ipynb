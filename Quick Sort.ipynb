{
 "cells": [
  {
   "cell_type": "markdown",
   "id": "792cdb7c",
   "metadata": {},
   "source": [
    "# comma(,) separated string into list"
   ]
  },
  {
   "cell_type": "code",
   "execution_count": 10,
   "id": "1cccc50a",
   "metadata": {},
   "outputs": [
    {
     "name": "stdout",
     "output_type": "stream",
     "text": [
      "1,2,3,4,5,6\n",
      "[1, 2, 3, 4, 5, 6]\n"
     ]
    }
   ],
   "source": [
    "inp = input()\n",
    "l = list( map(int, inp.split(\",\")))\n",
    "print(l)"
   ]
  },
  {
   "cell_type": "markdown",
   "id": "e521d11f",
   "metadata": {},
   "source": [
    "# space(\" \") separated string into list"
   ]
  },
  {
   "cell_type": "code",
   "execution_count": null,
   "id": "9e7149be",
   "metadata": {},
   "outputs": [],
   "source": [
    "inp = input()\n",
    "l = list( map(int, inp.split(\" \")))\n",
    "print(l)"
   ]
  },
  {
   "cell_type": "markdown",
   "id": "db6a99d1",
   "metadata": {},
   "source": [
    "# string into list"
   ]
  },
  {
   "cell_type": "code",
   "execution_count": 3,
   "id": "09a630a6",
   "metadata": {},
   "outputs": [
    {
     "data": {
      "text/plain": [
       "int"
      ]
     },
     "execution_count": 3,
     "metadata": {},
     "output_type": "execute_result"
    }
   ],
   "source": [
    "s = '1,2,3,4,5,6'\n",
    "l = [int(x) for x in s.split(',')]\n",
    "type(l[0])"
   ]
  },
  {
   "cell_type": "code",
   "execution_count": 4,
   "id": "bc1c7725",
   "metadata": {},
   "outputs": [
    {
     "data": {
      "text/plain": [
       "[2, 3, 4]"
      ]
     },
     "execution_count": 4,
     "metadata": {},
     "output_type": "execute_result"
    }
   ],
   "source": [
    "s = '234'\n",
    "l = [int(x) for x in s]\n",
    "l"
   ]
  },
  {
   "cell_type": "markdown",
   "id": "0c35ca62",
   "metadata": {},
   "source": [
    "# debugging using 'ic'"
   ]
  },
  {
   "cell_type": "code",
   "execution_count": 6,
   "id": "18031cc8",
   "metadata": {},
   "outputs": [
    {
     "name": "stdout",
     "output_type": "stream",
     "text": [
      "2\n",
      "1\n"
     ]
    },
    {
     "name": "stderr",
     "output_type": "stream",
     "text": [
      "ic| n: '1'\n"
     ]
    },
    {
     "name": "stdout",
     "output_type": "stream",
     "text": [
      "2\n"
     ]
    },
    {
     "name": "stderr",
     "output_type": "stream",
     "text": [
      "ic| n: '2'\n"
     ]
    }
   ],
   "source": [
    "from icecream import ic\n",
    "test = int(input())\n",
    "for _ in range(test):\n",
    "    n = input()\n",
    "    ic(n)"
   ]
  },
  {
   "cell_type": "markdown",
   "id": "1ce21aaf",
   "metadata": {},
   "source": [
    "# main function"
   ]
  },
  {
   "cell_type": "code",
   "execution_count": 7,
   "id": "7c01cd4b",
   "metadata": {},
   "outputs": [
    {
     "name": "stdout",
     "output_type": "stream",
     "text": [
      "Sum: 15\n"
     ]
    }
   ],
   "source": [
    "def sum_numbers(*args):\n",
    "    total = 0\n",
    "    for num in args:\n",
    "        total += num\n",
    "    return total\n",
    "\n",
    "def main():\n",
    "    numbers = [1, 2, 3, 4, 5]\n",
    "    result = sum_numbers(*numbers)\n",
    "    print(\"Sum:\", result)\n",
    "\n",
    "if __name__ == \"__main__\":\n",
    "    main()\n"
   ]
  },
  {
   "cell_type": "code",
   "execution_count": 8,
   "id": "73fa04c9",
   "metadata": {},
   "outputs": [
    {
     "data": {
      "text/plain": [
       "[1, 4, 9, 16, 25]"
      ]
     },
     "execution_count": 8,
     "metadata": {},
     "output_type": "execute_result"
    }
   ],
   "source": [
    "l = [1,2,3,4,5]\n",
    "\n",
    "square = list(map(lambda x: x**2,l))\n",
    "square"
   ]
  },
  {
   "cell_type": "code",
   "execution_count": 9,
   "id": "3b4165df",
   "metadata": {},
   "outputs": [
    {
     "data": {
      "text/plain": [
       "(1, 4, 9, 16, 25)"
      ]
     },
     "execution_count": 9,
     "metadata": {},
     "output_type": "execute_result"
    }
   ],
   "source": [
    "l = [1,2,3,4,5]\n",
    "l2 = tuple(map(lambda x: x**2, l))\n",
    "l2"
   ]
  },
  {
   "cell_type": "code",
   "execution_count": null,
   "id": "b5c60d93",
   "metadata": {},
   "outputs": [],
   "source": []
  }
 ],
 "metadata": {
  "kernelspec": {
   "display_name": "Python 3 (ipykernel)",
   "language": "python",
   "name": "python3"
  },
  "language_info": {
   "codemirror_mode": {
    "name": "ipython",
    "version": 3
   },
   "file_extension": ".py",
   "mimetype": "text/x-python",
   "name": "python",
   "nbconvert_exporter": "python",
   "pygments_lexer": "ipython3",
   "version": "3.10.9"
  }
 },
 "nbformat": 4,
 "nbformat_minor": 5
}
